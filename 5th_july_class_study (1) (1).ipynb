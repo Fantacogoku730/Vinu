{
  "cells": [
    {
      "cell_type": "markdown",
      "metadata": {
        "id": "XmqQFChQLW-_"
      },
      "source": [
        "STRINGS=The string is a sequence of characters enclosed in quotes.It can include letters,symbols,and even spaces."
      ]
    },
    {
      "cell_type": "code",
      "execution_count": null,
      "metadata": {
        "colab": {
          "base_uri": "https://localhost:8080/"
        },
        "id": "kdMRA1crMPMI",
        "outputId": "a8c7aebb-2cd1-4e9b-b6a8-69e764e3e7b1"
      },
      "outputs": [
        {
          "name": "stdout",
          "output_type": "stream",
          "text": [
            "Ram Krishna Shankar and Shekhar\n",
            "569\n",
            "12\n"
          ]
        }
      ],
      "source": [
        "#EXAMPLe\n",
        "print(\"Ram Krishna Shankar and Shekhar\")\n",
        "print(\"5\"+\"6\"+\"9\")\n",
        "print(8+7+6-5-4)"
      ]
    },
    {
      "cell_type": "markdown",
      "metadata": {
        "id": "Smwq_39SNSmU"
      },
      "source": [
        "PRINT STATEMENT= The print()statement(actually a function)is  used in python to display output on the scree."
      ]
    },
    {
      "cell_type": "markdown",
      "metadata": {
        "id": "vtPpwI5p_x9G"
      },
      "source": [
        "**feauters **   \n",
        "print(**Function**)=1) A function in python.\n",
        "                    2) Used to **display** **output** on the screen.\n",
        "                    3) Outputing values,messages,variables.\n",
        "                    4)print(\"Hello\")-display Hello.\n",
        "                    5) None(does not return a value)\n",
        "                    6)Not applicable(print is not a value)\n",
        "\n",
        "string(**data type**)=1)A **data type**(sequence of characters) .\n",
        "                      2)Used to **store text**(like words or sentences).\n",
        "                      3)Storing and working with text.\n",
        "                      4) name=\"Vinayak'-stores the name.\n",
        "                      5)Returns the string object itself.\n",
        "                      6)Strings are immutable."
      ]
    },
    {
      "cell_type": "markdown",
      "metadata": {
        "id": "PRs11eqQNnId"
      },
      "source": [
        "TYPE OF PRINT STATMENT\n",
        "\n",
        " -Print statement 01-basics\n",
        "- Print statement 02-using variables\n",
        "-Print statement 03-using F string\n",
        "-print statement 04- using .format\n"
      ]
    },
    {
      "cell_type": "markdown",
      "metadata": {
        "id": "HvUNudPPPjBx"
      },
      "source": [
        "Print statement 01=basic *italicized text*"
      ]
    },
    {
      "cell_type": "code",
      "execution_count": null,
      "metadata": {
        "colab": {
          "base_uri": "https://localhost:8080/"
        },
        "id": "5_jX30YINMLP",
        "outputId": "dc68acb6-ff74-4dc8-da01-4d9985f0ba19"
      },
      "outputs": [
        {
          "name": "stdout",
          "output_type": "stream",
          "text": [
            "Vinayak Prasad Mukkananthu\n"
          ]
        }
      ],
      "source": [
        "print(\"Vinayak Prasad Mukkananthu\")"
      ]
    },
    {
      "cell_type": "code",
      "execution_count": null,
      "metadata": {
        "colab": {
          "base_uri": "https://localhost:8080/"
        },
        "id": "Gw2d8mz3Pt4K",
        "outputId": "8ddf170e-945a-42c1-fcdf-2f4b1523e7be"
      },
      "outputs": [
        {
          "name": "stdout",
          "output_type": "stream",
          "text": [
            "History tells us ,that powerful people make places powerful.But history was  wrong powerful people make places powerful\n"
          ]
        }
      ],
      "source": [
        "print(\"History tells us ,that powerful people make places powerful.But history was  wrong powerful people make places powerful\")"
      ]
    },
    {
      "cell_type": "code",
      "execution_count": null,
      "metadata": {
        "colab": {
          "base_uri": "https://localhost:8080/"
        },
        "id": "vLwrkK_WXRh_",
        "outputId": "2b538a1c-f477-4442-931e-976af777a422"
      },
      "outputs": [
        {
          "name": "stdout",
          "output_type": "stream",
          "text": [
            "234\n"
          ]
        }
      ],
      "source": [
        "print(\"2\"+\"3\"+\"4\")"
      ]
    },
    {
      "cell_type": "code",
      "execution_count": null,
      "metadata": {
        "colab": {
          "base_uri": "https://localhost:8080/"
        },
        "id": "zoI6MGC8XpD2",
        "outputId": "1319a14d-1516-45bb-a6ae-7914221c1179"
      },
      "outputs": [
        {
          "name": "stdout",
          "output_type": "stream",
          "text": [
            "9\n"
          ]
        }
      ],
      "source": [
        "print(2+3+4)"
      ]
    },
    {
      "cell_type": "markdown",
      "metadata": {
        "id": "06iZIxIlecnP"
      },
      "source": [
        "PRINT STATEMENT -02 USING VARIABLE"
      ]
    },
    {
      "cell_type": "code",
      "execution_count": null,
      "metadata": {
        "id": "FVLslG_Aev12"
      },
      "outputs": [],
      "source": [
        "ABC=\"bade bade diware banate hain daar ka majese isiliya nahi ki koi andar se bahar nikale thaki bahar se koi andaar na aajye\""
      ]
    },
    {
      "cell_type": "code",
      "execution_count": null,
      "metadata": {
        "colab": {
          "base_uri": "https://localhost:8080/"
        },
        "id": "6lVseUCyfOTW",
        "outputId": "a7e2db79-dcde-4f93-996f-45622bbdf567"
      },
      "outputs": [
        {
          "name": "stdout",
          "output_type": "stream",
          "text": [
            "bade bade diware banate hain daar ka majese isiliya nahi ki koi andar se bahar nikale thaki bahar se koi andaar na aajye\n"
          ]
        }
      ],
      "source": [
        "print(ABC)"
      ]
    },
    {
      "cell_type": "code",
      "execution_count": null,
      "metadata": {
        "id": "FU_Y0dcCfSic"
      },
      "outputs": [],
      "source": [
        "ghjre=2+6+9+4"
      ]
    },
    {
      "cell_type": "code",
      "execution_count": null,
      "metadata": {
        "colab": {
          "base_uri": "https://localhost:8080/"
        },
        "id": "P8M80RdMfk_o",
        "outputId": "28662684-3016-4b92-d316-bb7ec6bdfa54"
      },
      "outputs": [
        {
          "name": "stdout",
          "output_type": "stream",
          "text": [
            "21\n"
          ]
        }
      ],
      "source": [
        "print(ghjre)"
      ]
    },
    {
      "cell_type": "code",
      "execution_count": null,
      "metadata": {
        "colab": {
          "base_uri": "https://localhost:8080/"
        },
        "id": "qghq5oIufo0c",
        "outputId": "bb2b5fbf-8044-4964-bc1f-c08982e5922e"
      },
      "outputs": [
        {
          "name": "stdout",
          "output_type": "stream",
          "text": [
            "-230\n"
          ]
        }
      ],
      "source": [
        "eryto=(9+6+8) * (3-5-8)\n",
        "print(eryto)"
      ]
    },
    {
      "cell_type": "code",
      "execution_count": null,
      "metadata": {
        "colab": {
          "base_uri": "https://localhost:8080/"
        },
        "id": "pWScRCmCf_Cj",
        "outputId": "4cb99e74-3ad8-4e9e-c03d-c2ef7eda2e22"
      },
      "outputs": [
        {
          "name": "stdout",
          "output_type": "stream",
          "text": [
            "shaitaaan tu meri jaan hain\n",
            "tu meri jaan hain main tera yaar hu\n"
          ]
        }
      ],
      "source": [
        "tuple=\"shaitaaan tu meri jaan hain\"\n",
        "titu=\"tu meri jaan hain main tera yaar hu\"\n",
        "print(tuple)\n",
        "print(titu)"
      ]
    },
    {
      "cell_type": "code",
      "execution_count": null,
      "metadata": {
        "colab": {
          "base_uri": "https://localhost:8080/"
        },
        "id": "BKO1Ta5Zgcxd",
        "outputId": "945564b0-d671-44dc-e05d-5257fc8b3f7b"
      },
      "outputs": [
        {
          "name": "stdout",
          "output_type": "stream",
          "text": [
            "mere yaaar se kehena ki mujhe kuch nahi hu hain jab thak tum mere saath ho mujhe kuch nahi ho sakta\n"
          ]
        }
      ],
      "source": [
        "DIN = \"jab thak tum mere saath ho mujhe kuch nahi ho sakta\"\n",
        "print(\"mere yaaar se kehena ki mujhe kuch nahi hu hain\",DIN )"
      ]
    },
    {
      "cell_type": "code",
      "execution_count": null,
      "metadata": {
        "colab": {
          "base_uri": "https://localhost:8080/"
        },
        "id": "6XPiZwb0hIq1",
        "outputId": "2331a034-3e5d-41a7-bb17-25af0f6d6eb8"
      },
      "outputs": [
        {
          "name": "stdout",
          "output_type": "stream",
          "text": [
            "ragupathi raghAV RAJA RAM\n",
            "MAR MAR KAR HADI THOD GO\n",
            "kat kat kar kutto ko kil dena \n"
          ]
        }
      ],
      "source": [
        "name=\"ragupathi raghAV RAJA RAM\"\n",
        "AGE=\"MAR MAR KAR HADI THOD GO\"\n",
        "profession=\"kat kat kar kutto ko kil dena \"\n",
        "print(name)\n",
        "print(AGE)\n",
        "print(profession)"
      ]
    },
    {
      "cell_type": "markdown",
      "metadata": {
        "id": "13f1a8KGhuuT"
      },
      "source": [
        "PRINT STATEMENT 04=USING F STRING"
      ]
    },
    {
      "cell_type": "markdown",
      "metadata": {
        "id": "MuAdeVXIlkKB"
      },
      "source": [
        "**STRING**=An F string (short for formatted string literal)is a way to embed variables or expressions inside a string **using curly braces{}.**"
      ]
    },
    {
      "cell_type": "code",
      "execution_count": null,
      "metadata": {
        "colab": {
          "base_uri": "https://localhost:8080/"
        },
        "id": "dXVaHrrghrSw",
        "outputId": "c4c586d5-69dd-43d9-849f-bf30e63eef70"
      },
      "outputs": [
        {
          "name": "stdout",
          "output_type": "stream",
          "text": [
            "The movie is RISE, REVOLT AND ROAR\n"
          ]
        }
      ],
      "source": [
        "RRR=\"RISE, REVOLT AND ROAR\"\n",
        "print(f\"The movie is {RRR}\")"
      ]
    },
    {
      "cell_type": "code",
      "execution_count": null,
      "metadata": {
        "colab": {
          "base_uri": "https://localhost:8080/"
        },
        "id": "3IeRdxG4iG6D",
        "outputId": "fdc6f38c-d017-4082-e9af-7a116d18b490"
      },
      "outputs": [
        {
          "name": "stdout",
          "output_type": "stream",
          "text": [
            "CHHAVVAjai parvathy padhe hara hara mahadev\n",
            "TANHAJIjai bhavani jai shivaji\n",
            "lord shivajihar har mahadev\n"
          ]
        }
      ],
      "source": [
        "vvv=\"jai parvathy padhe hara hara mahadev\"\n",
        "yyy=\"jai bhavani jai shivaji\"\n",
        "aaa=\"har har mahadev\"\n",
        "print(f\"CHHAVVA{vvv}\")\n",
        "print(f\"TANHAJI{yyy}\")\n",
        "print(f\"lord shivaji{aaa}\")"
      ]
    },
    {
      "cell_type": "code",
      "execution_count": null,
      "metadata": {
        "colab": {
          "base_uri": "https://localhost:8080/"
        },
        "id": "rOeLvdVejC-7",
        "outputId": "617b699b-fecc-48b6-b0fb-1b0da70ae4d9"
      },
      "outputs": [
        {
          "name": "stdout",
          "output_type": "stream",
          "text": [
            "dil dil daaramerica\n",
            "royalcochin raja \n"
          ]
        }
      ],
      "source": [
        "country=\"america\"\n",
        "royal= \"cochin raja \"\n",
        "print(f\"dil dil daar{country}\")\n",
        "print(f\"royal{royal}\")"
      ]
    },
    {
      "cell_type": "code",
      "execution_count": null,
      "metadata": {
        "colab": {
          "base_uri": "https://localhost:8080/"
        },
        "id": "XKNeOP9GklNg",
        "outputId": "482a58d6-c975-4983-c2b9-a7ce8230f436"
      },
      "outputs": [
        {
          "name": "stdout",
          "output_type": "stream",
          "text": [
            "this moviedil dil bar dil dil bar bar\n",
            "this songhila hila de hila de nachoniya\n",
            "bang bang tu tu tu meri ri ri mein tera ho ne lega\n"
          ]
        }
      ],
      "source": [
        "rrr= \"dil dil bar dil dil bar bar\"\n",
        "fff= \"hila hila de hila de nachoniya\"\n",
        "uuu=\" tu tu tu meri ri ri mein tera ho ne lega\"\n",
        "print(f\"this movie{rrr}\")\n",
        "print(f\"this song{fff}\")\n",
        "print(f\"bang bang{uuu}\")"
      ]
    },
    {
      "cell_type": "code",
      "execution_count": null,
      "metadata": {
        "colab": {
          "base_uri": "https://localhost:8080/"
        },
        "id": "4CqYojBSmPMg",
        "outputId": "93314dfe-0d26-445f-9fec-d9769946e688"
      },
      "outputs": [
        {
          "name": "stdout",
          "output_type": "stream",
          "text": [
            "The result is 111110\n"
          ]
        }
      ],
      "source": [
        "\n",
        "NUMBER1= 33333\n",
        "NUMBER2= 77777\n",
        "RESULT=NUMBER1+NUMBER2\n",
        "print(f\"The result is {RESULT}\")"
      ]
    },
    {
      "cell_type": "code",
      "execution_count": null,
      "metadata": {
        "colab": {
          "base_uri": "https://localhost:8080/"
        },
        "id": "mdMpJAOtmoFz",
        "outputId": "15a4be37-7de2-487e-c02d-6569e6b98281"
      },
      "outputs": [
        {
          "name": "stdout",
          "output_type": "stream",
          "text": [
            "The addition is 66666\n",
            "The subtraction is -44444\n",
            "The multiplication is 617271605\n",
            "The division is 0.2\n"
          ]
        }
      ],
      "source": [
        "a=11111\n",
        "b=55555\n",
        "addition=a+b\n",
        "subtraction=a-b\n",
        "multiplication=a*b\n",
        "division=a/b\n",
        "print(f\"The addition is {addition}\")\n",
        "print(f\"The subtraction is {subtraction}\")\n",
        "print(f\"The multiplication is {multiplication}\")\n",
        "print(f\"The division is {division}\")"
      ]
    },
    {
      "cell_type": "markdown",
      "metadata": {
        "id": "evkzpwMglrBc"
      },
      "source": [
        "**PRINT STATEMENT **04** USING .FORMAT"
      ]
    },
    {
      "cell_type": "markdown",
      "metadata": {
        "id": "ozZk59x_q2aC"
      },
      "source": [
        "**.Format=**=The .format() method is used to insert values into a string using **placeholder**{}.It is an older but still useful way to do string formatting."
      ]
    },
    {
      "cell_type": "code",
      "execution_count": null,
      "metadata": {
        "colab": {
          "base_uri": "https://localhost:8080/"
        },
        "id": "j93yOiYKlRiL",
        "outputId": "32332590-3d34-4738-855b-756e1904b3f1"
      },
      "outputs": [
        {
          "name": "stdout",
          "output_type": "stream",
          "text": [
            "my name is vinayak prasad mukkananthu.I am third year bcom.I live in thrissur,kerala\n"
          ]
        }
      ],
      "source": [
        "\n",
        "name=\"vinayak prasad mukkananthu\"\n",
        "ClassDef = \"third year bcom\"\n",
        "city=\"thrissur,kerala\"\n",
        "print(\"my name is {}.I am {}.I live in {}\".format(name,ClassDef,city))"
      ]
    },
    {
      "cell_type": "code",
      "execution_count": null,
      "metadata": {
        "colab": {
          "base_uri": "https://localhost:8080/"
        },
        "id": "17gYb31HpHni",
        "outputId": "fa23108c-cc4a-449e-bfa5-f3c640de5b76"
      },
      "outputs": [
        {
          "name": "stdout",
          "output_type": "stream",
          "text": [
            "he rook jai raj kaha ja rehe ho tum.kaha chali bas thoda tehal ne.shaadi kyu mujhe se shaadi karogi\n"
          ]
        }
      ],
      "source": [
        "a=\"raj kaha ja rehe ho tum\"\n",
        "b=\"bas thoda tehal ne\"\n",
        "g=\"mujhe se shaadi karogi\"\n",
        "print(\"he rook jai {}.kaha chali {}.shaadi kyu {}\".format(a,b,g))"
      ]
    },
    {
      "cell_type": "markdown",
      "metadata": {
        "id": "Kl1G2LE0rcVN"
      },
      "source": [
        "**COMMENT**-A comment is a line in your code that python **ignores when running** the program.It's used to explain your code'make notes'or temporarily disable code."
      ]
    },
    {
      "cell_type": "code",
      "execution_count": null,
      "metadata": {
        "id": "Ml_Y5508r-1T"
      },
      "outputs": [],
      "source": [
        "# single  line comment= In python starts with the # symbol.Python ignores everything after # on that line. It's used to write short explanation'\n",
        "# example\n",
        "# jai shree ram jai shree ram jai shree ram raja ram jai shree ram jai shree ram jai shree ram raja ram."
      ]
    },
    {
      "cell_type": "code",
      "execution_count": null,
      "metadata": {
        "id": "Y_tKJ6xTs2e0"
      },
      "outputs": [],
      "source": [
        "# two type of multiple line comment\n",
        "# first use # on each line\n",
        "# second use triple quotes(''' or \"\"\"\")\n",
        "\n",
        "# example\n",
        "\n",
        "# jai raja ram\n",
        "# ghayal isiliya ghatak hu\n",
        "# pakistan ka baap india hai\n"
      ]
    },
    {
      "cell_type": "code",
      "execution_count": null,
      "metadata": {
        "colab": {
          "base_uri": "https://localhost:8080/",
          "height": 36
        },
        "id": "1sv1ykzjuXH6",
        "outputId": "30eddd80-1234-4847-bb80-c3449a1d748a"
      },
      "outputs": [
        {
          "data": {
            "application/vnd.google.colaboratory.intrinsic+json": {
              "type": "string"
            },
            "text/plain": [
              "'\\nsdfvbjv kf jkgfbklgfb\\ngfkjgfbkjgbfkjgbjjgb\\nrejkjldfgbklgbkjrh\\nkjlgbkmkllkhnlkhnlk\\n'"
            ]
          },
          "execution_count": 58,
          "metadata": {},
          "output_type": "execute_result"
        }
      ],
      "source": [
        "\"\"\"\n",
        "hjdvfjkfdvjhdfv\n",
        "dfvjhfvjkvkjdfvjkh\n",
        "fvshjkfvijvuikjrtb\n",
        "vgkgfbiubngfb,mjgb\n",
        "fgbiuorekgblb,mk\n",
        "\"\"\"\n",
        "\n",
        "'''\n",
        "sdfvbjv kf jkgfbklgfb\n",
        "gfkjgfbkjgbfkjgbjjgb\n",
        "rejkjldfgbklgbkjrh\n",
        "kjlgbkmkllkhnlkhnlk\n",
        "'''"
      ]
    },
    {
      "cell_type": "markdown",
      "metadata": {
        "id": "q8Wcr9OICjMd"
      },
      "source": [
        "INPUT FUNCTION=The input() function is used to **take input from the user** during program execution.It pauses the program,waits for the user to type something,and **returns the input as a string.**"
      ]
    },
    {
      "cell_type": "code",
      "execution_count": null,
      "metadata": {
        "colab": {
          "base_uri": "https://localhost:8080/"
        },
        "id": "xKrGH-lXr_7u",
        "outputId": "7c6f00c3-d5a1-4de2-b71a-e5312613d16b"
      },
      "outputs": [
        {
          "name": "stdout",
          "output_type": "stream",
          "text": [
            "enter my name vinayak prasad\n"
          ]
        }
      ],
      "source": [
        "name=input(\"enter my name\")"
      ]
    },
    {
      "cell_type": "code",
      "execution_count": null,
      "metadata": {
        "colab": {
          "base_uri": "https://localhost:8080/",
          "height": 36
        },
        "id": "tmJo28U1s328",
        "outputId": "78e559ee-8755-4919-e8bb-b1695eb37989"
      },
      "outputs": [
        {
          "data": {
            "application/vnd.google.colaboratory.intrinsic+json": {
              "type": "string"
            },
            "text/plain": [
              "' vinayak prasad'"
            ]
          },
          "execution_count": 6,
          "metadata": {},
          "output_type": "execute_result"
        }
      ],
      "source": [
        "name"
      ]
    },
    {
      "cell_type": "code",
      "execution_count": null,
      "metadata": {
        "colab": {
          "base_uri": "https://localhost:8080/"
        },
        "id": "pNJXxsLFs63t",
        "outputId": "2592ddb7-ad43-4f6b-889f-a237f8f1bf27"
      },
      "outputs": [
        {
          "name": "stdout",
          "output_type": "stream",
          "text": [
            "this  is my world madar chod tu kon hain bosedike\n"
          ]
        }
      ],
      "source": [
        "DDDD=input(\"this  is my world madar chod\")"
      ]
    },
    {
      "cell_type": "markdown",
      "metadata": {
        "id": "P9R5l5G4teFn"
      },
      "source": [
        "TYPE CASTING\n",
        "\n",
        "-The type casting means converting one data type into another data type -likr turning an integer into a string, a float into an integer etc."
      ]
    },
    {
      "cell_type": "code",
      "execution_count": null,
      "metadata": {
        "colab": {
          "base_uri": "https://localhost:8080/"
        },
        "id": "HcdgZdVDtG8M",
        "outputId": "6f4ff71f-8972-4a11-c886-effaa01011be"
      },
      "outputs": [
        {
          "name": "stdout",
          "output_type": "stream",
          "text": [
            "this is my kingdom7890\n",
            "this is my tribe9087\n"
          ]
        }
      ],
      "source": [
        "RRR=int(input(\"this is my kingdom\"))\n",
        "TTT=int(input(\"this is my tribe\"))\n",
        "rtrtrt=RRR+TTT"
      ]
    },
    {
      "cell_type": "code",
      "execution_count": null,
      "metadata": {
        "colab": {
          "base_uri": "https://localhost:8080/"
        },
        "id": "MNmn1153uQ_h",
        "outputId": "7c986b79-ba6d-4234-93ec-211d07b42f83"
      },
      "outputs": [
        {
          "data": {
            "text/plain": [
              "16977"
            ]
          },
          "execution_count": 9,
          "metadata": {},
          "output_type": "execute_result"
        }
      ],
      "source": [
        "rtrtrt"
      ]
    },
    {
      "cell_type": "code",
      "execution_count": null,
      "metadata": {
        "colab": {
          "base_uri": "https://localhost:8080/"
        },
        "id": "nWPLFHYquZDr",
        "outputId": "71e25f6c-4658-4700-f3f9-7f9e24d409f1"
      },
      "outputs": [
        {
          "data": {
            "text/plain": [
              "int"
            ]
          },
          "execution_count": 11,
          "metadata": {},
          "output_type": "execute_result"
        }
      ],
      "source": [
        "type(rtrtrt)"
      ]
    },
    {
      "cell_type": "markdown",
      "metadata": {
        "id": "u7wBsWGxzcUt"
      },
      "source": [
        "# TEMPERATURE\n",
        "\n",
        "A temperature converter is a tool or program that helps you **change the temperature value from one unit to another**. It  converts between **celsius**,\n",
        "**fahrenheit**,**and** **kelvin**.\n",
        "\n",
        "\n",
        "F=(C*9/5)+32"
      ]
    },
    {
      "cell_type": "code",
      "execution_count": null,
      "metadata": {
        "colab": {
          "base_uri": "https://localhost:8080/"
        },
        "id": "P6KbSud8ufu5",
        "outputId": "f6a0a69e-6e0d-49f2-d23e-80f73eeb82ea"
      },
      "outputs": [
        {
          "name": "stdout",
          "output_type": "stream",
          "text": [
            "enter the temperature in celsius:5555\n",
            "the temperature in fahrenheit is: 10031.0\n"
          ]
        }
      ],
      "source": [
        "GGG=int(input(\"enter the temperature in celsius:\"))\n",
        "print(\"the temperature in fahrenheit is:\",(GGG*9/5)+32)"
      ]
    },
    {
      "cell_type": "code",
      "execution_count": null,
      "metadata": {
        "colab": {
          "base_uri": "https://localhost:8080/"
        },
        "id": "C7ffFWL_2HsR",
        "outputId": "1cd96eac-cbe1-4c9d-9e27-ee56d86c1827"
      },
      "outputs": [
        {
          "name": "stdout",
          "output_type": "stream",
          "text": [
            "enter the temperature in celsius:5689\n",
            "the temperature in fahrenheit is:10272.2\n"
          ]
        }
      ],
      "source": [
        "YYY=int(input(\"enter the temperature in celsius:\"))\n",
        "print(f\"the temperature in fahrenheit is:{YYY*9/5+32}\")"
      ]
    },
    {
      "cell_type": "code",
      "execution_count": null,
      "metadata": {
        "colab": {
          "base_uri": "https://localhost:8080/"
        },
        "id": "rcIAsIw32cIr",
        "outputId": "64e2890d-4e06-45a4-f75e-6b977bacc44f"
      },
      "outputs": [
        {
          "name": "stdout",
          "output_type": "stream",
          "text": [
            "enter the temperature in celsius:8532157\n",
            "the temperature in fahrenheit is:15357914.6\n"
          ]
        }
      ],
      "source": [
        "OOO=int(input(\"enter the temperature in celsius:\"))\n",
        "print(\"the temperature in fahrenheit is:{}\".format((OOO*9/5)+32))"
      ]
    },
    {
      "cell_type": "markdown",
      "metadata": {
        "id": "Tqk6Dn6E2wvw"
      },
      "source": [
        "# BMI stand body mass index\n",
        "\n",
        "It is **simple number** used to check if a person has a **healthy body weight** for their **height**.\n",
        "\n",
        "BMI=Weight(kg)/Height(m)2"
      ]
    },
    {
      "cell_type": "code",
      "execution_count": null,
      "metadata": {
        "colab": {
          "base_uri": "https://localhost:8080/"
        },
        "id": "iR7OYgY12oKh",
        "outputId": "d0b2c66b-2484-4b16-a255-a5467ca26788"
      },
      "outputs": [
        {
          "name": "stdout",
          "output_type": "stream",
          "text": [
            "enter your weight in kg:7895.000\n",
            "enter your height in m:8750.000\n",
            "1.8045714285714285\n"
          ]
        }
      ],
      "source": [
        "KKKK=float(input(\"enter your weight in kg:\"))\n",
        "LLLLL=float(input(\"enter your height in m:\"))\n",
        "BMI=KKKK/LLLLL*2\n",
        "print(BMI)"
      ]
    },
    {
      "cell_type": "code",
      "execution_count": null,
      "metadata": {
        "colab": {
          "base_uri": "https://localhost:8080/"
        },
        "id": "mFkcj3LUIGY9",
        "outputId": "a4b5a2b9-aebe-4ef6-97b4-3c9196af33c5"
      },
      "outputs": [
        {
          "name": "stdout",
          "output_type": "stream",
          "text": [
            "enter your weight in kg:5678.999\n",
            "enter your height in m:45638.9999\n",
            "your BMI is:0.24886605808380124\n"
          ]
        }
      ],
      "source": [
        "YYYY=float(input(\"enter your weight in kg:\"))\n",
        "LLLL=float(input(\"enter your height in m:\"))\n",
        "BMI=YYYY/LLLL*2\n",
        "print(f\"your BMI is:{BMI}\")\n"
      ]
    },
    {
      "cell_type": "code",
      "execution_count": null,
      "metadata": {
        "colab": {
          "base_uri": "https://localhost:8080/"
        },
        "id": "4ycrExADIQWH",
        "outputId": "c7e19e42-b23b-402b-f023-a2cbfabd4814"
      },
      "outputs": [
        {
          "name": "stdout",
          "output_type": "stream",
          "text": [
            "enter your weight in kg:6758.00099\n",
            "enter your height in m:5647.9999\n",
            "your BMI is:2.3930598830215986\n"
          ]
        }
      ],
      "source": [
        "IIII=float(input(\"enter your weight in kg:\"))\n",
        "LLLL=float(input(\"enter your height in m:\"))\n",
        "BMI=IIII/LLLL*2\n",
        "print(\"your BMI is:{}\".format(BMI))"
      ]
    },
    {
      "cell_type": "markdown",
      "metadata": {
        "id": "OXOQvqo2IwbI"
      },
      "source": [
        "AREA OF CIRCLE=The **area  of a circle** is the **space inside the boundary** of the circle.It tells you **how much surface** the circle covers.\n",
        "=3.14(r**2)"
      ]
    },
    {
      "cell_type": "code",
      "execution_count": null,
      "metadata": {
        "colab": {
          "base_uri": "https://localhost:8080/"
        },
        "id": "gOdKkLzMKErf",
        "outputId": "0118d86d-c6ee-41c7-ef27-ffa01a086de1"
      },
      "outputs": [
        {
          "name": "stdout",
          "output_type": "stream",
          "text": [
            "enter the radius of circle:55555\n",
            "the area of circle is: 9691164198.5\n"
          ]
        }
      ],
      "source": [
        "WWWW=int(input(\"enter the radius of circle:\"))\n",
        "print(\"the area of circle is:\",3.14*WWWW**2)"
      ]
    },
    {
      "cell_type": "code",
      "execution_count": null,
      "metadata": {
        "colab": {
          "base_uri": "https://localhost:8080/"
        },
        "id": "Z6lqc-h7KLnm",
        "outputId": "5ec1560d-e224-4ca0-acf7-18dc964e3171"
      },
      "outputs": [
        {
          "name": "stdout",
          "output_type": "stream",
          "text": [
            "enter the radius of circle:44444\n",
            "the area of circle is:6202345087.04\n"
          ]
        }
      ],
      "source": [
        "EEEE=int(input(\"enter the radius of circle:\"))\n",
        "print(f\"the area of circle is:{3.14*EEEE**2}\")"
      ]
    },
    {
      "cell_type": "code",
      "execution_count": null,
      "metadata": {
        "colab": {
          "base_uri": "https://localhost:8080/"
        },
        "id": "PdwEgQWEKRGE",
        "outputId": "7fdce28a-95cc-4d73-d9ec-f2c11cb61c59"
      },
      "outputs": [
        {
          "name": "stdout",
          "output_type": "stream",
          "text": [
            "enter the radius of circle:777777\n",
            "the area of circle is:1899502373829.06\n"
          ]
        }
      ],
      "source": [
        "QQQQ=int(input(\"enter the radius of circle:\"))\n",
        "print(\"the area of circle is:{}\".format(3.14*QQQQ**2))"
      ]
    },
    {
      "cell_type": "markdown",
      "metadata": {
        "id": "QTf3mxPCK0q4"
      },
      "source": [
        "**AGE** **IN** **DAYS**\n",
        "\n",
        "**Age** **in** **days** means the **total number of days** a person has lived since their **birth**."
      ]
    },
    {
      "cell_type": "code",
      "execution_count": null,
      "metadata": {
        "colab": {
          "base_uri": "https://localhost:8080/"
        },
        "id": "_xPEIELhKaHo",
        "outputId": "0af63b43-2b8e-4a24-d808-d4eab520bba7"
      },
      "outputs": [
        {
          "name": "stdout",
          "output_type": "stream",
          "text": [
            "enter your age:20\n",
            "your age in days is: 7300\n"
          ]
        }
      ],
      "source": [
        "age=int(input(\"enter your age:\"))\n",
        "print(\"your age in days is:\",age*365)"
      ]
    },
    {
      "cell_type": "code",
      "execution_count": null,
      "metadata": {
        "colab": {
          "base_uri": "https://localhost:8080/"
        },
        "id": "h_wX2veOMcRX",
        "outputId": "c117f570-7022-4339-d679-8063277b2117"
      },
      "outputs": [
        {
          "name": "stdout",
          "output_type": "stream",
          "text": [
            "enter your age:25\n",
            "your age in days is:9125\n"
          ]
        }
      ],
      "source": [
        "age=int(input(\"enter your age:\"))\n",
        "print(f\"your age in days is:{age*365}\")"
      ]
    },
    {
      "cell_type": "code",
      "execution_count": null,
      "metadata": {
        "colab": {
          "base_uri": "https://localhost:8080/"
        },
        "id": "XSpz7Mn-KI0T",
        "outputId": "02cb87b2-c61f-49e5-ad61-9095c749812c"
      },
      "outputs": [
        {
          "name": "stdout",
          "output_type": "stream",
          "text": [
            "enter your age:30\n",
            "your age in days is:10950\n"
          ]
        }
      ],
      "source": [
        "age=int(input(\"enter your age:\"))\n",
        "print(\"your age in days is:{}\".format(age*365))"
      ]
    },
    {
      "cell_type": "markdown",
      "metadata": {
        "id": "KIfHViydaB7w"
      },
      "source": [
        "# VARIABLE = A variable is like a container or name that stores data so you can use it later in your programm."
      ]
    },
    {
      "cell_type": "code",
      "execution_count": null,
      "metadata": {
        "id": "uo9nissvaBbv"
      },
      "outputs": [],
      "source": [
        "EEe=\"IF YOU THINK YOU ARE BAD, I AM YOUR DAD\""
      ]
    },
    {
      "cell_type": "code",
      "execution_count": null,
      "metadata": {
        "colab": {
          "base_uri": "https://localhost:8080/",
          "height": 36
        },
        "id": "bU4kSsaRbElZ",
        "outputId": "5e59acb6-297e-44bb-da70-6317e9826958"
      },
      "outputs": [
        {
          "data": {
            "application/vnd.google.colaboratory.intrinsic+json": {
              "type": "string"
            },
            "text/plain": [
              "'IF YOU THINK YOU ARE BAD, I AM YOUR DAD'"
            ]
          },
          "execution_count": 2,
          "metadata": {},
          "output_type": "execute_result"
        }
      ],
      "source": [
        "EEe"
      ]
    },
    {
      "cell_type": "markdown",
      "metadata": {
        "id": "MODPkq32bZZZ"
      },
      "source": [
        "## RULES FOR VARIABLE NAMES  \n",
        "\n",
        "\n",
        "\n",
        " - Use only letters,numbers,and underscores.\n",
        " -Cannot be a python keywords.\n",
        " - Case senstive\n",
        " -Use meaningful names(Good practice,not a strict rule)\n",
        "-Start with a letter or underscore."
      ]
    },
    {
      "cell_type": "code",
      "execution_count": null,
      "metadata": {
        "id": "NkidJWxPcRiZ"
      },
      "outputs": [],
      "source": [
        "ttttt=\"shaitaan hoon shaitaan tere baap ka shaitaaaaan\""
      ]
    },
    {
      "cell_type": "code",
      "execution_count": null,
      "metadata": {
        "id": "c96oTstFcflj"
      },
      "outputs": [],
      "source": []
    },
    {
      "cell_type": "code",
      "execution_count": null,
      "metadata": {
        "colab": {
          "base_uri": "https://localhost:8080/"
        },
        "id": "FWOGuBaScgY4",
        "outputId": "72e95c08-6a88-4fd4-dbc2-44e18538b5df"
      },
      "outputs": [
        {
          "name": "stdout",
          "output_type": "stream",
          "text": [
            "134112303346480\n"
          ]
        }
      ],
      "source": [
        "print(id(ttttt))"
      ]
    },
    {
      "cell_type": "code",
      "execution_count": null,
      "metadata": {
        "colab": {
          "base_uri": "https://localhost:8080/",
          "height": 36
        },
        "id": "oJK4Zw5UclNH",
        "outputId": "d5fc8b3b-4081-45e7-dbd8-38ea67707cf2"
      },
      "outputs": [
        {
          "data": {
            "application/vnd.google.colaboratory.intrinsic+json": {
              "type": "string"
            },
            "text/plain": [
              "'shaitaan hoon shaitaan tere baap ka shaitaaaaan'"
            ]
          },
          "execution_count": 5,
          "metadata": {},
          "output_type": "execute_result"
        }
      ],
      "source": [
        "ttttt"
      ]
    },
    {
      "cell_type": "markdown",
      "metadata": {
        "id": "Wl-cAWbrcp08"
      },
      "source": [
        "# KEYWORDS\n",
        "\n",
        "\n",
        "**Keywords** are **reserved** **words** in python.They have a **special** **meeting** and **cannot be used **as variable names.\n",
        "\n",
        "Keywords define the **structure** and **syntax** of python code.\n",
        "They are used for things like **control** **flow,function  definition, loops **etc."
      ]
    },
    {
      "cell_type": "code",
      "execution_count": null,
      "metadata": {
        "colab": {
          "base_uri": "https://localhost:8080/"
        },
        "id": "vdXgf-7Acqg0",
        "outputId": "757df836-dbf2-4bd5-c55f-7a323fa2abf6"
      },
      "outputs": [
        {
          "name": "stdout",
          "output_type": "stream",
          "text": [
            "\n",
            "Here is a list of the Python keywords.  Enter any keyword to get more help.\n",
            "\n",
            "False               class               from                or\n",
            "None                continue            global              pass\n",
            "True                def                 if                  raise\n",
            "and                 del                 import              return\n",
            "as                  elif                in                  try\n",
            "assert              else                is                  while\n",
            "async               except              lambda              with\n",
            "await               finally             nonlocal            yield\n",
            "break               for                 not                 \n",
            "\n"
          ]
        }
      ],
      "source": [
        "help(\"keywords\")"
      ]
    },
    {
      "cell_type": "code",
      "execution_count": null,
      "metadata": {
        "colab": {
          "base_uri": "https://localhost:8080/"
        },
        "id": "7y9DfjVPcqm6",
        "outputId": "393c7ce5-ae7e-424b-c19a-5b3222d92eec"
      },
      "outputs": [
        {
          "name": "stdout",
          "output_type": "stream",
          "text": [
            "['False', 'None', 'True', 'and', 'as', 'assert', 'async', 'await', 'break', 'class', 'continue', 'def', 'del', 'elif', 'else', 'except', 'finally', 'for', 'from', 'global', 'if', 'import', 'in', 'is', 'lambda', 'nonlocal', 'not', 'or', 'pass', 'raise', 'return', 'try', 'while', 'with', 'yield']\n"
          ]
        }
      ],
      "source": [
        "import keyword\n",
        "print(keyword.kwlist)"
      ]
    },
    {
      "cell_type": "markdown",
      "metadata": {
        "id": "SiGos3azeOPO"
      },
      "source": [
        "# TYPE FUNCTION\n",
        "\n",
        "The type()function is a **built in python**  **funcction** that tells you the **data** **type** of a value or variable.\n",
        "\n",
        "\n",
        "**why** **use** tyoe()?\n",
        "to check if a value is:\n",
        "\n",
        "- a string(str)\n",
        "-an integer(int)\n",
        "-a floating-point number(float)\n",
        "- a lists,tuple,dictionary,etc."
      ]
    },
    {
      "cell_type": "markdown",
      "metadata": {
        "id": "cjKHfb4DoYU_"
      },
      "source": [
        "string **function**"
      ]
    },
    {
      "cell_type": "code",
      "execution_count": null,
      "metadata": {
        "id": "97CAguN6g5qf"
      },
      "outputs": [],
      "source": [
        "gggg=\"mujhe koi hara nahi saktha\"\n"
      ]
    },
    {
      "cell_type": "code",
      "execution_count": null,
      "metadata": {
        "colab": {
          "base_uri": "https://localhost:8080/"
        },
        "id": "wTSRqkfocq49",
        "outputId": "62df0ac9-7839-428a-9ba9-82838836568f"
      },
      "outputs": [
        {
          "data": {
            "text/plain": [
              "str"
            ]
          },
          "execution_count": 15,
          "metadata": {},
          "output_type": "execute_result"
        }
      ],
      "source": [
        "type(gggg)"
      ]
    },
    {
      "cell_type": "markdown",
      "metadata": {
        "id": "nRU4n3jIp33V"
      },
      "source": [
        "**integer function**"
      ]
    },
    {
      "cell_type": "code",
      "execution_count": null,
      "metadata": {
        "id": "aHLB0Fm7cq_s"
      },
      "outputs": [],
      "source": [
        "tttt=78964"
      ]
    },
    {
      "cell_type": "code",
      "execution_count": null,
      "metadata": {
        "colab": {
          "base_uri": "https://localhost:8080/"
        },
        "id": "RDhZoraUco8_",
        "outputId": "aaa29b78-a5d9-4049-cd8a-62fa5e5e097a"
      },
      "outputs": [
        {
          "data": {
            "text/plain": [
              "int"
            ]
          },
          "execution_count": 20,
          "metadata": {},
          "output_type": "execute_result"
        }
      ],
      "source": [
        "type(tttt)"
      ]
    },
    {
      "cell_type": "markdown",
      "metadata": {
        "id": "gxyqwZfWp-9E"
      },
      "source": [
        "**float function**"
      ]
    },
    {
      "cell_type": "code",
      "execution_count": null,
      "metadata": {
        "id": "iZGQ0t3dqD3n"
      },
      "outputs": [],
      "source": [
        "kkkk=679.986"
      ]
    },
    {
      "cell_type": "code",
      "execution_count": null,
      "metadata": {
        "colab": {
          "base_uri": "https://localhost:8080/"
        },
        "id": "8vtXFkb6qHlr",
        "outputId": "8a2978d9-c297-44d4-e745-b449ce567522"
      },
      "outputs": [
        {
          "data": {
            "text/plain": [
              "float"
            ]
          },
          "execution_count": 22,
          "metadata": {},
          "output_type": "execute_result"
        }
      ],
      "source": [
        "type(kkkk)"
      ]
    },
    {
      "cell_type": "markdown",
      "metadata": {
        "id": "4JxT1BA7qPaA"
      },
      "source": [
        "# List function\n",
        "\n",
        "-A **list** is an **ordered,changeable**(mutable)collection.\n",
        "-Can hold **multiple** **values** of different data types.\n",
        "-You can  **add,remove and change elements.**"
      ]
    },
    {
      "cell_type": "code",
      "execution_count": null,
      "metadata": {
        "colab": {
          "base_uri": "https://localhost:8080/"
        },
        "id": "8RhXEqIWq8N5",
        "outputId": "4c734a5e-a76c-4221-a4d5-8c2f062ee6d5"
      },
      "outputs": [
        {
          "name": "stdout",
          "output_type": "stream",
          "text": [
            "apple\n",
            "['apple', 'banana', 'cherry', 'mango']\n"
          ]
        }
      ],
      "source": [
        "fruits=[\"apple\",\"banana\",\"cherry\"]\n",
        "print(fruits[0])\n",
        "fruits.append(\"mango\")\n",
        "print(fruits)"
      ]
    },
    {
      "cell_type": "code",
      "execution_count": null,
      "metadata": {
        "id": "mJurfx7lr3Vm"
      },
      "outputs": [],
      "source": [
        "my__list=[10,30, \"garaj\", \"truth\"]"
      ]
    },
    {
      "cell_type": "code",
      "execution_count": null,
      "metadata": {
        "colab": {
          "base_uri": "https://localhost:8080/"
        },
        "id": "ovYkU6bKsZCb",
        "outputId": "bcc41ef0-cb32-405c-df75-9f11aea92ab3"
      },
      "outputs": [
        {
          "name": "stdout",
          "output_type": "stream",
          "text": [
            "['koyi', 'mutton', 'fish', 'chicken']\n"
          ]
        }
      ],
      "source": [
        "chicken=[\"koyi\",\"mutton\",\"fish\"]\n",
        "chicken.append(\"chicken\")\n",
        "print(chicken)"
      ]
    },
    {
      "cell_type": "markdown",
      "metadata": {
        "id": "WDn_FD74s4lZ"
      },
      "source": [
        "# tuple function\n",
        "\n",
        "\n",
        "-A tuple is like a list but it is unchangeable(immutable).\n",
        "- Ordered,but **cannot be modified** after creation"
      ]
    },
    {
      "cell_type": "code",
      "execution_count": null,
      "metadata": {
        "id": "qQ0s57VytTDr"
      },
      "outputs": [],
      "source": [
        "my_tuple=(1,\"2\",\"narayana\")"
      ]
    },
    {
      "cell_type": "code",
      "execution_count": null,
      "metadata": {
        "colab": {
          "base_uri": "https://localhost:8080/"
        },
        "id": "oQFSpIMItcNC",
        "outputId": "2f4fac49-7d17-4dc2-8d82-d8965dc4051b"
      },
      "outputs": [
        {
          "name": "stdout",
          "output_type": "stream",
          "text": [
            "blue\n"
          ]
        }
      ],
      "source": [
        "colour=(\"red\",\"green\",\"blue\")\n",
        "print(colour[2])\n",
        "# colour.append(\"black\") will not occur."
      ]
    },
    {
      "cell_type": "markdown",
      "metadata": {
        "id": "45ko-6wNuBPd"
      },
      "source": [
        "# dictionary function\n",
        "\n",
        "-A dictionary stores data in key-value pairs.   \n",
        "\n",
        "\n",
        "-It is unordered(in olden Python version),changeable, and indexed by leys(not numbers)."
      ]
    },
    {
      "cell_type": "code",
      "execution_count": null,
      "metadata": {
        "colab": {
          "base_uri": "https://localhost:8080/"
        },
        "id": "6STbwhugts0z",
        "outputId": "8e862c94-6c02-430b-e336-8461f53edf75"
      },
      "outputs": [
        {
          "name": "stdout",
          "output_type": "stream",
          "text": [
            "vinayak\n",
            "{'name': 'vinayak', 'age': 22}\n"
          ]
        }
      ],
      "source": [
        "my_dictionary={\"name\":\"vinayak\",\"age\":20}\n",
        "print(my_dictionary[\"name\"])\n",
        "my_dictionary[\"age\"]=22\n",
        "print(my_dictionary)"
      ]
    },
    {
      "cell_type": "markdown",
      "metadata": {
        "id": "fD0SWhgEv6l5"
      },
      "source": [
        "PYTHON OPERATOR\n",
        "\n",
        "-Operators are symbols or words that perform operations on variables or values-like adding numbers,comparing values or checking conditions."
      ]
    },
    {
      "cell_type": "markdown",
      "metadata": {
        "id": "9YCjgjP_wT7D"
      },
      "source": [
        "# type of operator\n",
        "\n",
        "\n",
        "-Arithmetic operators\n",
        "-Relational operators\n",
        "-Assignment operators\n",
        "-Logical operators\n",
        "-Membership operators\n",
        "-Identity opearators\n",
        "-bitwise operators\n",
        "\n",
        "-"
      ]
    },
    {
      "cell_type": "markdown",
      "metadata": {
        "id": "wBJutalnxmLH"
      },
      "source": [
        "## Arthmetic operators\n",
        "\n",
        "-Arthmetic operators are used to do basic math operations like addition,subtraction,multiplication, etc."
      ]
    },
    {
      "cell_type": "code",
      "execution_count": null,
      "metadata": {
        "colab": {
          "base_uri": "https://localhost:8080/"
        },
        "id": "n4yDw11OxkT-",
        "outputId": "152a08f1-89ed-4722-fce0-72acf258562b"
      },
      "outputs": [
        {
          "name": "stdout",
          "output_type": "stream",
          "text": [
            "10\n",
            "0\n",
            "25\n",
            "1.0\n"
          ]
        }
      ],
      "source": [
        "a=5\n",
        "b=5\n",
        "addition=a+b\n",
        "subtraction=a-b\n",
        "multiplication=a*b\n",
        "division=a/b\n",
        "print(addition)\n",
        "print(subtraction)\n",
        "print(multiplication)\n",
        "print(division)"
      ]
    },
    {
      "cell_type": "markdown",
      "metadata": {
        "id": "dtKe7RKaxjsK"
      },
      "source": [
        "relational operators are also called as comparison operators .It's used to compare two values.\n",
        "\n",
        "true, if the comparison is correct.\n",
        "false, if the comparison is not correct.\n",
        "\n",
        "\n",
        "\n",
        "\n",
        "\n",
        "\n",
        "== equal to.\n",
        "!= not equal to.\n",
        ">  greater than\n",
        "<  less than\n",
        ">= greater than or equal to\n",
        "<= less than or equal to"
      ]
    },
    {
      "cell_type": "code",
      "execution_count": null,
      "metadata": {
        "colab": {
          "base_uri": "https://localhost:8080/"
        },
        "id": "uX64UXIZxUFY",
        "outputId": "e450835e-89b9-4860-f803-6a8d69f68338"
      },
      "outputs": [
        {
          "name": "stdout",
          "output_type": "stream",
          "text": [
            "False\n",
            "True\n",
            "True\n",
            "False\n",
            "True\n",
            "False\n"
          ]
        }
      ],
      "source": [
        "a=90\n",
        "b=78\n",
        "print(a==b)\n",
        "print(a!=b)\n",
        "print(a>b)\n",
        "print(a<b)\n",
        "print(a>=b)\n",
        "print(a<=b)"
      ]
    },
    {
      "cell_type": "markdown",
      "metadata": {
        "id": "FNLTt7SHzble"
      },
      "source": [
        "# Assignment operators\n",
        "\n",
        "-Assignment operators are used to assign values to variables.\n",
        "-They can also combine assignment with arithmetic(like +='*=)\n",
        "\n",
        "= assign value.\n",
        "+= add and assign\n",
        "-=  subtract and assign\n",
        "  *=  multiply and assign\n",
        "/=  divide and assign\n",
        "//= floor divide and assign\n",
        "%=  modulus and assign\n",
        "**= exponent and asssign\n"
      ]
    },
    {
      "cell_type": "code",
      "execution_count": null,
      "metadata": {
        "id": "eAtQxxY81q6r"
      },
      "outputs": [],
      "source": []
    },
    {
      "cell_type": "code",
      "execution_count": null,
      "metadata": {
        "colab": {
          "base_uri": "https://localhost:8080/"
        },
        "id": "QIU-G5opvtlX",
        "outputId": "7b7bcae2-8581-4a41-8c1b-daf8d3afe01f"
      },
      "outputs": [
        {
          "name": "stdout",
          "output_type": "stream",
          "text": [
            "110\n"
          ]
        }
      ],
      "source": [
        "a=100\n",
        "a+=10\n",
        "print(a)"
      ]
    },
    {
      "cell_type": "code",
      "execution_count": null,
      "metadata": {
        "colab": {
          "base_uri": "https://localhost:8080/"
        },
        "id": "A08VzLWW2xV-",
        "outputId": "0953d735-f285-4e86-bcd1-e169adb6c075"
      },
      "outputs": [
        {
          "name": "stdout",
          "output_type": "stream",
          "text": [
            "75\n"
          ]
        }
      ],
      "source": [
        "a=100\n",
        "a-=25\n",
        "print(a)"
      ]
    },
    {
      "cell_type": "code",
      "execution_count": null,
      "metadata": {
        "colab": {
          "base_uri": "https://localhost:8080/"
        },
        "id": "jUucerc30end",
        "outputId": "81688f85-451d-4566-a62e-57c8e635eaec"
      },
      "outputs": [
        {
          "name": "stdout",
          "output_type": "stream",
          "text": [
            "500\n"
          ]
        }
      ],
      "source": [
        "a=100\n",
        "a*=5\n",
        "print(a)"
      ]
    },
    {
      "cell_type": "code",
      "execution_count": null,
      "metadata": {
        "colab": {
          "base_uri": "https://localhost:8080/"
        },
        "id": "P6D7GByk2CA4",
        "outputId": "70ee2ecd-4fc7-4aee-f9c9-bcb67251c06e"
      },
      "outputs": [
        {
          "name": "stdout",
          "output_type": "stream",
          "text": [
            "1.7857142857142858\n"
          ]
        }
      ],
      "source": [
        "a=100\n",
        "a/=56\n",
        "print(a)"
      ]
    },
    {
      "cell_type": "code",
      "execution_count": null,
      "metadata": {
        "colab": {
          "base_uri": "https://localhost:8080/"
        },
        "id": "OedVphZZ3IKi",
        "outputId": "a5b2c23e-4b9c-4c6e-a1e0-53fd7a919a22"
      },
      "outputs": [
        {
          "name": "stdout",
          "output_type": "stream",
          "text": [
            "4\n"
          ]
        }
      ],
      "source": [
        "a=100\n",
        "a//=25\n",
        "print(a)"
      ]
    },
    {
      "cell_type": "code",
      "execution_count": null,
      "metadata": {
        "colab": {
          "base_uri": "https://localhost:8080/"
        },
        "id": "0rCaPyBF3P5o",
        "outputId": "0ccfb46c-343d-4b28-f3c0-e49691d00422"
      },
      "outputs": [
        {
          "name": "stdout",
          "output_type": "stream",
          "text": [
            "33\n"
          ]
        }
      ],
      "source": [
        "a=100\n",
        "a%=67\n",
        "print(a)"
      ]
    },
    {
      "cell_type": "code",
      "execution_count": null,
      "metadata": {
        "colab": {
          "base_uri": "https://localhost:8080/"
        },
        "id": "CvGjngsv3VlW",
        "outputId": "ef2f3d20-64f5-4205-a4d0-0a499a753778"
      },
      "outputs": [
        {
          "name": "stdout",
          "output_type": "stream",
          "text": [
            "1000000000000000000000000000000000000000000000000000000000000000000000000000000000000000000000000000000000000000000000000000000000000000000000000000000000000\n"
          ]
        }
      ],
      "source": [
        "a=100\n",
        "a**=78\n",
        "print(a)"
      ]
    },
    {
      "cell_type": "markdown",
      "metadata": {
        "id": "Yb6EZbW93b7g"
      },
      "source": [
        "# Logical operators\n",
        "\n",
        "**Logical operators** are used to **combine** multiple conditions and return either **True or False** .\n",
        "They are most often used with **if statement or comparison**.\n",
        "\n",
        "\n",
        "# operators       -      meaning           \n",
        "and               - True if both conditions are true.\n",
        "or                - True if at least onr condition is true.\n",
        "not               -   reverse the result .\n",
        "\n"
      ]
    },
    {
      "cell_type": "code",
      "execution_count": null,
      "metadata": {
        "colab": {
          "base_uri": "https://localhost:8080/"
        },
        "id": "hbikqmKf_UyG",
        "outputId": "8ff04df5-3efb-4e25-e5c7-aeca586c7f31"
      },
      "outputs": [
        {
          "name": "stdout",
          "output_type": "stream",
          "text": [
            "False\n",
            "False\n",
            "True\n"
          ]
        }
      ],
      "source": [
        "ttt=56\n",
        "ppp=89\n",
        "print(ttt>89 and ppp<56)\n",
        "print(ttt>89 or ppp<56)\n",
        "print(not(ttt>89 and ppp<56))"
      ]
    },
    {
      "cell_type": "markdown",
      "metadata": {
        "id": "SuY0aY_QBfmJ"
      },
      "source": [
        "# **membership** **operators**\n",
        "\n",
        "\n",
        " **membership** **operator**  are used to **check if a value exists inside a sequence like **a **list,string,tuple,or dictionary.**\n",
        "\n",
        "\n",
        "type of membership operators\n",
        "in- trueif value is **present**.\n",
        "not in-true if value is **not present**.\n",
        "\n",
        "\n",
        "in-true if value is present\n",
        "not in- trueif value is not prsent\n",
        "\n"
      ]
    },
    {
      "cell_type": "markdown",
      "source": [
        "# Identity operators\n",
        "\n",
        " **Identity** **operators** are used to **compare**  **the** **memory** **locations** of two objects-i.e.. whether they are actually the **same object(not just equal on value)**\n",
        "\n",
        "\n",
        " - is =true if both refer to the same object.\n",
        " -is not=true if the refer to different object."
      ],
      "metadata": {
        "id": "dxi4v4HI-ogU"
      }
    },
    {
      "cell_type": "markdown",
      "source": [
        "# BITWISE OPERATORS\n",
        "\n",
        "**Bitwise operators** are used to perform operation on the **binary representation of integers.**\n",
        "\n",
        "\n",
        "\n",
        "AND=bitwise AND &.\n",
        "OR=bitwise OR `.\n",
        "XOR=bitwise XOR ^.\n",
        "NOT=bitwise NOT ~."
      ],
      "metadata": {
        "id": "mux7iINzARju"
      }
    },
    {
      "cell_type": "code",
      "source": [],
      "metadata": {
        "id": "byBlwnt8-f4S"
      },
      "execution_count": null,
      "outputs": []
    },
    {
      "cell_type": "code",
      "execution_count": null,
      "metadata": {
        "id": "au-lgFaPHNsr"
      },
      "outputs": [],
      "source": []
    }
  ],
  "metadata": {
    "colab": {
      "provenance": []
    },
    "kernelspec": {
      "display_name": "Python 3",
      "name": "python3"
    },
    "language_info": {
      "name": "python"
    }
  },
  "nbformat": 4,
  "nbformat_minor": 0
}